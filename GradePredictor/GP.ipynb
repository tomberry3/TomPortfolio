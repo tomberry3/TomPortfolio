{
    "metadata": {
        "kernelspec": {
            "name": "python3",
            "display_name": "Python 3 (ipykernel)",
            "language": "python"
        }
    },
    "nbformat": 4,
    "nbformat_minor": 2,
    "cells": [
        {
            "attachments": {},
            "cell_type": "markdown",
            "metadata": {},
            "source": [
                "# Python and Data Science\n",
                "## Machine Learning\n",
                "### Part 1: Linear Regression using Scikit-Learn"
            ]
        },
        {
            "attachments": {},
            "cell_type": "markdown",
            "metadata": {},
            "source": [
                "Libraries Used:\n",
                "\n",
                "- [Numpy](https://www.youtube.com/watch?v=lLRBYKwP8GQ\u0026t=1073s) - Used for making arrays\n",
                "- [Pandas](https://www.youtube.com/watch?v=zN2Hua6oII0\u0026t=8s) - Used for handling data sets\n",
                "- [matplotlib](https://www.youtube.com/watch?v=nzKy9GY12yo) - Used for making charts and graphs\n",
                "- [scikit-learn intro](https://www.youtube.com/watch?v=rvVkVsG49uU) - Used to handle complex mathematics\n",
                "- [scikit-learn tut](https://www.youtube.com/watch?v=M9Itm95JzL0) - In depth discussion\n",
                "- [pickle](https://www.youtube.com/watch?v=6Q56r_fVqgw) - Used to preserve trained models\n",
                ""
            ]
        },
        {
            "cell_type": "code",
            "execution_count": 43,
            "metadata": {},
            "outputs": [],
            "source": [
                "# Imports necessary libraries\n",
                "import pandas as pd\n",
                "import numpy as np\n",
                "import sklearn\n",
                "import matplotlib.pyplot as pyplot\n",
                "import pickle\n",
                "from sklearn import linear_model\n",
                "from sklearn.utils import shuffle\n",
                "from matplotlib import style"
            ]
        },
        {
            "cell_type": "code",
            "execution_count": 44,
            "metadata": {},
            "outputs": [
                {
                    "name": "stdout",
                    "output_type": "stream",
                    "text": "  school sex  age address famsize Pstatus  Medu  Fedu     Mjob      Fjob  ...  \\\n0     GP   F   18       U     GT3       A     4     4  at_home   teacher  ...   \n1     GP   F   17       U     GT3       T     1     1  at_home     other  ...   \n2     GP   F   15       U     LE3       T     1     1  at_home     other  ...   \n3     GP   F   15       U     GT3       T     4     2   health  services  ...   \n4     GP   F   16       U     GT3       T     3     3    other     other  ...   \n\n  famrel freetime  goout  Dalc  Walc health absences  G1  G2  G3  \n0      4        3      4     1     1      3        6   5   6   6  \n1      5        3      3     1     1      3        4   5   5   6  \n2      4        3      2     2     3      3       10   7   8  10  \n3      3        2      2     1     1      5        2  15  14  15  \n4      4        3      2     1     2      5        4   6  10  10  \n\n[5 rows x 33 columns]\n"
                }
            ],
            "source": [
                "data = pd.read_csv(\"student-mat.csv\", sep=\";\") #read data from the file \"student-mat.csv\" and store it in the dataframe\n",
                "print(data.head())#prints the first couple of rows from the data frame to the console"
            ]
        },
        {
            "cell_type": "code",
            "execution_count": 45,
            "metadata": {},
            "outputs": [
                {
                    "name": "stdout",
                    "output_type": "stream",
                    "text": "   G1  G2  G3  studytime  failures  absences\n0   5   6   6          2         0         6\n1   5   5   6          2         0         4\n2   7   8  10          2         3        10\n3  15  14  15          3         0         2\n4   6  10  10          2         0         4\n"
                }
            ],
            "source": [
                "data = data[[\"G1\", \"G2\", \"G3\", \"studytime\", \"failures\", \"absences\"]] #filters the data from the dataframe to only include the following G1\", \"G2\", \"G3\", \"studytime\", \"failures\", \"absences\"\n",
                "print(data.head()) #prints the first couple of rows from the data frame to the console"
            ]
        },
        {
            "attachments": {},
            "cell_type": "markdown",
            "metadata": {},
            "source": [
                "## Attributes and Labels\n",
                "\n",
                "In machine learning:\n",
                "\n",
                "1. **Attributes** (Features): Characteristics or properties of data used as input for algorithms. Also known as variables or features. Represented by a feature vector for each data point.\n",
                "\n",
                "2. **Labels** (Target Variable): Values we want the model to predict or learn. The dataset is labeled in supervised learning, where each data point has an associated label serving as ground truth.\n",
                "\n",
                "The goal is to use attributes to learn patterns and relationships that enable the model to predict labels for new, unseen data.\n",
                "\n",
                "List the attributes here:\n",
                "\n",
                "What is the label in this example?\n",
                ""
            ]
        },
        {
            "cell_type": "code",
            "execution_count": 46,
            "metadata": {},
            "outputs": [],
            "source": [
                "predict = \"G3\" #specifies the data that is intended on being predicted\n",
                "\n",
                "x = np.array(data.drop(predict, axis=1)) #creates numpy array\n",
                "y = np.array(data[predict]) #creates numpy array"
            ]
        },
        {
            "cell_type": "code",
            "execution_count": 47,
            "metadata": {},
            "outputs": [],
            "source": [
                "# Split the data set into training and testing sets\n",
                "#sets 10% of data away for testing (test_size=0.1), and uses 90% for training\n",
                "x_train, x_test, y_train, y_test = sklearn.model_selection.train_test_split(x, y, test_size=0.1)"
            ]
        },
        {
            "attachments": {},
            "cell_type": "markdown",
            "metadata": {},
            "source": [
                "### Linear Regression\n",
                " Using a set of data points, the LR algorithm attempts to find a 'line of best fit' through the data.\n",
                " The 'line of best fit' is a corrrelation between the data points.\n",
                " LR is best used in a situation when there is a strong correlation of data to begin with.\n",
                " \n",
                " \u003ctable\u003e\n",
                "    \u003ctr\u003e\n",
                "        \u003ctd\u003e\n",
                "            \u003cimg src=\"LR-data1.png\" width=\"50%\" /\u003e\n",
                "        \u003c/td\u003e\n",
                "        \u003ctd\u003e\n",
                "            \u003cimg src=\"LR-data2.png\" width=\"50%\" /\u003e\n",
                "        \u003c/td\u003e\n",
                "    \u003c/tr\u003e\n",
                "    \u003ctr\u003e\n",
                "        \u003ctd\u003e\n",
                "            \u003cp style=\"text-align:center\"\u003eStrongly Correlated\u003c/p\u003e\n",
                "        \u003c/td\u003e\n",
                "        \u003ctd\u003e\n",
                "            \u003cp style=\"text-align:center\"\u003ePoorly Correlated\u003c/p\u003e\n",
                "        \u003c/td\u003e\n",
                "    \u003c/tr\u003e\n",
                " \u003c/table\u003e\n",
                " \n",
                " \u003cb\u003eLinear Equation: y = mx + b, where m is the gradient of the line.\n",
                " For any given x and a known gradient, y can be predicted.\u003c/b\u003e"
            ]
        },
        {
            "cell_type": "code",
            "execution_count": 48,
            "metadata": {},
            "outputs": [],
            "source": [
                "# linear = linear_model.LinearRegression()\n",
                "\n",
                "# # Define the line of best fit\n",
                "# linear.fit(x_train, y_train)\n",
                "# acc = linear.score(x_test, y_test)\n",
                "# print(acc)"
            ]
        },
        {
            "attachments": {},
            "cell_type": "markdown",
            "metadata": {},
            "source": [
                "## Save the Model with pickle\n",
                "\n",
                "- use the runall button several times until we get a high acc value\n",
                "\n",
                "- Comment out the cell above"
            ]
        },
        {
            "cell_type": "code",
            "execution_count": 49,
            "metadata": {},
            "outputs": [
                {
                    "ename": "NameError",
                    "evalue": "name 'linear' is not defined",
                    "output_type": "error",
                    "traceback": [
                        "\u001b[0;31m---------------------------------------------------------------------------\u001b[0m",
                        "\u001b[0;31mNameError\u001b[0m                                 Traceback (most recent call last)",
                        "Cell \u001b[0;32mIn[1], line 2\u001b[0m\n\u001b[1;32m      1\u001b[0m \u001b[38;5;28;01mwith\u001b[39;00m \u001b[38;5;28mopen\u001b[39m(\u001b[38;5;124m\"\u001b[39m\u001b[38;5;124mstudentmodel.pickle\u001b[39m\u001b[38;5;124m\"\u001b[39m, \u001b[38;5;124m\"\u001b[39m\u001b[38;5;124mwb\u001b[39m\u001b[38;5;124m\"\u001b[39m) \u001b[38;5;28;01mas\u001b[39;00m f: \u001b[38;5;66;03m#open file named \"studentmodel.pickle\"\u001b[39;00m\n\u001b[0;32m----\u003e 2\u001b[0m     pickle\u001b[38;5;241m.\u001b[39mdump(\u001b[43mlinear\u001b[49m, f)\n",
                        "\u001b[0;31mNameError\u001b[0m: name 'linear' is not defined"
                    ]
                }
            ],
            "source": [
                "with open(\"studentmodel.pickle\", \"wb\") as f: #open file named \"studentmodel.pickle\"\n",
                "    pickle.dump(linear, f)"
            ]
        },
        {
            "cell_type": "code",
            "execution_count": 35,
            "metadata": {},
            "outputs": [
                {
                    "ename": "EOFError",
                    "evalue": "Ran out of input",
                    "output_type": "error",
                    "traceback": [
                        "\u001b[0;31m---------------------------------------------------------------------------\u001b[0m",
                        "\u001b[0;31mEOFError\u001b[0m                                  Traceback (most recent call last)",
                        "Cell \u001b[0;32mIn[1], line 3\u001b[0m\n\u001b[1;32m      1\u001b[0m \u001b[38;5;66;03m# Load the pickle file\u001b[39;00m\n\u001b[1;32m      2\u001b[0m pickle_in \u001b[38;5;241m=\u001b[39m \u001b[38;5;28mopen\u001b[39m(\u001b[38;5;124m\"\u001b[39m\u001b[38;5;124mstudentmodel.pickle\u001b[39m\u001b[38;5;124m\"\u001b[39m, \u001b[38;5;124m\"\u001b[39m\u001b[38;5;124mrb\u001b[39m\u001b[38;5;124m\"\u001b[39m)\n\u001b[0;32m----\u003e 3\u001b[0m linear \u001b[38;5;241m=\u001b[39m \u001b[43mpickle\u001b[49m\u001b[38;5;241;43m.\u001b[39;49m\u001b[43mload\u001b[49m\u001b[43m(\u001b[49m\u001b[43mpickle_in\u001b[49m\u001b[43m)\u001b[49m\n",
                        "\u001b[0;31mEOFError\u001b[0m: Ran out of input"
                    ]
                }
            ],
            "source": [
                "# Load the pickle file\n",
                "pickle_in = open(\"studentmodel.pickle\", \"rb\")\n",
                "linear = pickle.load(pickle_in) #load the stored model in the pickle file back into the variable \"linear\""
            ]
        },
        {
            "cell_type": "code",
            "execution_count": 188,
            "metadata": {},
            "outputs": [
                {
                    "name": "stdout",
                    "output_type": "stream",
                    "text": "Coefficient: \n [ 0.14893069  0.9827544  -0.17925407 -0.27916561  0.03577086]\nIntercept: \n -1.5159285078593356\n"
                }
            ],
            "source": [
                "print('Coefficient: \\n', linear.coef_) #prints co-efficient\n",
                "print('Intercept: \\n', linear.intercept_) #prints intercept"
            ]
        },
        {
            "cell_type": "code",
            "execution_count": 189,
            "metadata": {},
            "outputs": [
                {
                    "name": "stdout",
                    "output_type": "stream",
                    "text": "8.013868154648213 [10  8  1  0 10] 9\n12.719063033088005 [14 12  2  0 20] 13\n12.326137068984393 [10 13  2  1  6] 13\n9.753057286685083 [ 8 10  1  0 12] 10\n18.465571742582725 [19 18  3  0  0] 19\n15.249770520472037 [16 15  2  0  0] 15\n8.453812655950523 [9 9 2 0 4] 10\n18.090321371181403 [16 18  3  0  2] 18\n8.787045104529504 [11  9  3  0 10] 10\n12.32598341564363 [14 12  1  0  4] 11\n5.887734108583204 [ 7  6  1  0 18] 6\n9.466890440716213 [ 8 10  1  0  4] 10\n13.820224033008328 [13 14  2  0  0] 15\n8.35194756426279 [10  9  3  0  2] 10\n17.829231148609637 [17 17  2  0 13] 17\n11.84402099151898 [14 11  1  0 18] 13\n11.956580315555723 [12 12  1  0  2] 11\n9.693210117819689 [10 10  1  0  2] 10\n10.890589656866512 [10 11  1  0  8] 10\n15.100839826174191 [15 15  2  0  0] 15\n11.195452280394193 [12 11  1  1 16] 12\n7.9071090365134715 [6 9 1 1 4] 8\n13.916241853382653 [11 14  1  0  6] 14\n3.8470104651123354 [ 6  5  1  3 16] 5\n11.241517572726487 [11 12  3  1  4] 11\n8.423489275755006 [10  9  3  0  4] 9\n4.612965586730752 [ 6  5  1  0 14] 5\n-0.5037370279699336 [8 0 1 0 0] 0\n4.362569596507992 [6 5 1 0 7] 6\n12.837469628438157 [13 13  2  0  0] 13\n12.010647153097823 [14 12  2  1  8] 12\n15.172381537666407 [15 15  2  0  2] 16\n15.023450843368561 [14 15  2  0  2] 15\n15.975881867743215 [15 16  3  0  2] 18\n12.622044902435865 [13 13  4  0  4] 12\n11.116509538207165 [12 11  2  0 11] 11\n13.451821243198236 [14 13  1  0  8] 13\n6.9259753313148185 [10  8  1  3  3] 7\n10.574099430702123 [11 11  2  0  0] 10\n14.921585751680826 [15 15  3  0  0] 15\n"
                }
            ],
            "source": [
                "predictions = linear.predict(x_test) #predicts target values using the linear model on the test set called \"x_test\"\n",
                "\n",
                "for x in range(len(predictions)): #loop through the range of the variable \"predictions\" array length\n",
                "    print(predictions[x], x_test[x], y_test[x]) #prints the input features, predicted value, and target value for each prediction"
            ]
        },
        {
            "attachments": {},
            "cell_type": "markdown",
            "metadata": {},
            "source": [
                "## Plot the data"
            ]
        },
        {
            "cell_type": "code",
            "execution_count": 193,
            "metadata": {},
            "outputs": [
                {
                    "data": {
                        "image/png": "[encoded data removed]",
                        "text/plain": "\u003cFigure size 640x480 with 1 Axes\u003e"
                    },
                    "metadata": {},
                    "output_type": "display_data"
                }
            ],
            "source": [
                "style.use(\"ggplot\") #sets plotting style to \"ggplot\"\n",
                "\n",
                "\n",
                "p = \"studytime\" #define the variable for the result to be plotted\n",
                "pyplot.scatter(data[p], data[\"G3\"])# Set up a scatter plot\n",
                "pyplot.xlabel(p) #set x-axis label\n",
                "pyplot.ylabel(\"Final Grade\") #set y-axis label\n",
                "pyplot.show() #displays the plot"
            ]
        }
    ]
}
